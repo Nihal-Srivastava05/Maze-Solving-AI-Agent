{
 "cells": [
  {
   "cell_type": "markdown",
   "id": "b303ed9f",
   "metadata": {},
   "source": [
    "# Maze Solver - Simple agent with No random Moves"
   ]
  },
  {
   "cell_type": "markdown",
   "id": "541cd871",
   "metadata": {},
   "source": [
    "This is the first agent I have made which is a simple reflex agent. It follows basic instruction and tries to solves a given maze but does not necessarily succeed at it as it can get get in brances which are terminal (i.e do not go to the goal, just stop) as it might get stuck in loops at that point. But this agent gives us a good idea of how we will be modelling a agent in general and will make things clearer on why I planned to add certain things in next agent."
   ]
  },
  {
   "cell_type": "code",
   "execution_count": 1,
   "id": "8c95e268",
   "metadata": {},
   "outputs": [],
   "source": [
    "import random\n",
    "import numpy as np"
   ]
  },
  {
   "cell_type": "code",
   "execution_count": 2,
   "id": "2329829f",
   "metadata": {},
   "outputs": [],
   "source": [
    "'''\n",
    "This class is made to either take in a given maze in an array form along with the max limit and goal state or just\n",
    "randomly make a maze (It does not necessarily have to be a functional maze) which might not have a path too but it useful\n",
    "to test if our agent and know of it will react and which action it will take\n",
    "'''\n",
    "\n",
    "class maze_environment:\n",
    "    def __init__(self, limit=None, maze=None, goal=None):\n",
    "        if(maze is None and limit is None):\n",
    "            self.limit = random.randint(5, 15)\n",
    "            self.goal = (self.limit-1, self.limit-1)\n",
    "            self.maze = []\n",
    "            for i in range(self.limit):\n",
    "                row = []\n",
    "                for j in range(self.limit):\n",
    "                    row.append(random.choice(['F', 'B']))\n",
    "                self.maze.append(row)\n",
    "            self.maze[0][0] = 'F'\n",
    "            self.maze[self.limit-1][self.limit-1] = 'F'\n",
    "        else:\n",
    "            self.maze = maze\n",
    "            self.limit = limit\n",
    "            self.goal = goal\n",
    "    \n",
    "    def get_limit(self):\n",
    "        return self.limit\n",
    "    \n",
    "    def show_maze(self):\n",
    "        for i in range(self.limit):\n",
    "            for j in range(self.limit):\n",
    "                print(self.maze[i][j], end=\" \")\n",
    "            print()\n",
    "    \n",
    "    def get_goal(self):\n",
    "        return self.goal\n",
    "    \n",
    "    def get_position(self, x, y):\n",
    "        if(x > self.limit-1 or y > self.limit-1):\n",
    "            return 'B'\n",
    "        if(x < 0 or y < 0):\n",
    "            return 'B'\n",
    "        return self.maze[x][y]"
   ]
  },
  {
   "cell_type": "markdown",
   "id": "489e2a76",
   "metadata": {},
   "source": [
    "### Self driving agent (No random moves possible)\n",
    "\n",
    "This agent can move left, right, up and down. Its goal is to reach the goal tile given to it. It only sees the tiles in front of it and if its not an obstacle then it moves front else it sees left, right or back and takes a move in the respective order only. This is good enough to solve a single path maze (No terminal brances). We will improve this in next agent."
   ]
  },
  {
   "cell_type": "code",
   "execution_count": 3,
   "id": "54693887",
   "metadata": {},
   "outputs": [],
   "source": [
    "class self_driving_agent:\n",
    "    def __init__(self):\n",
    "        self.x = 0\n",
    "        self.y = 0\n",
    "        self.total_steps = 0\n",
    "        self.surrondings = None\n",
    "    \n",
    "    def move(self, env):\n",
    "        if(self.x == env.get_goal()[0] and self.y == env.get_goal()[1]):\n",
    "            print(\"You have solved the maze and reached the end...\")\n",
    "            return False\n",
    "        elif(self.total_steps >= env.limit*2):\n",
    "            print(\"Did not halt, mostly unsolvable maze...\")\n",
    "            return False\n",
    "        else:\n",
    "            self.surrondings = [env.get_position(self.x+1, self.y),\n",
    "                                env.get_position(self.x, self.y+1),\n",
    "                                env.get_position(self.x-1, self.y), \n",
    "                                env.get_position(self.x, self.y-1)]\n",
    "            if(self.surrondings[0] == \"F\"):\n",
    "                self.x += 1\n",
    "                print(\"Go Down\")\n",
    "            elif(self.surrondings[1] == \"F\"):\n",
    "                self.y += 1\n",
    "                print(\"Go Right\")\n",
    "            elif(self.surrondings[2] == \"F\"):\n",
    "                self.x -= 1\n",
    "                print(\"Go Up\")\n",
    "            elif(self.surrondings[3] == \"F\"):\n",
    "                self.y -= 1\n",
    "                print(\"Go Left\")\n",
    "            else:\n",
    "                print(\"Maze is blocked for all the places...\")\n",
    "                return False\n",
    "            \n",
    "            self.total_steps += 1\n",
    "            return True\n",
    "    \n",
    "    def tell_pos(self):\n",
    "        print(\"I am currently at the position ({}, {})\".format(self.x, self.y))"
   ]
  },
  {
   "cell_type": "markdown",
   "id": "066fde73",
   "metadata": {},
   "source": [
    "### Running the agent in different environments"
   ]
  },
  {
   "cell_type": "code",
   "execution_count": 4,
   "id": "570a0f7b",
   "metadata": {},
   "outputs": [
    {
     "name": "stdout",
     "output_type": "stream",
     "text": [
      "Limit is:  15\n",
      "Goal is:  (14, 14)\n",
      "F F F F F B F F B F F B F F B \n",
      "F B B F B F F B F F B F F B B \n",
      "F B F B B F F F B F F B F B F \n",
      "B F B F F B F B B F B B F F B \n",
      "B F F F B B B B B B F F B F F \n",
      "F B F F B F F F F F B B B B F \n",
      "F B B F B F F B F B B F B F F \n",
      "F F B B F F B F B B F F B F F \n",
      "B B F F F B B B F F B F B B B \n",
      "F F B B B F B B F B B F B B B \n",
      "B B F B F B F F F B F B F F F \n",
      "B F F F B F B F B F F B B B F \n",
      "B F F B F B F B F B F F F F B \n",
      "F B F F F F F B B B B F B F B \n",
      "B F F F F F B F B F F F B B F \n"
     ]
    }
   ],
   "source": [
    "#Randomly generated environment\n",
    "my_env = maze_environment()\n",
    "my_agent = self_driving_agent()\n",
    "\n",
    "print(\"Limit is: \", my_env.get_limit())\n",
    "print(\"Goal is: \", my_env.get_goal())\n",
    "my_env.show_maze()"
   ]
  },
  {
   "cell_type": "code",
   "execution_count": 5,
   "id": "d6e32b67",
   "metadata": {},
   "outputs": [
    {
     "name": "stdout",
     "output_type": "stream",
     "text": [
      "Go Down\n",
      "I am currently at the position (1, 0)\n",
      "Go Down\n",
      "I am currently at the position (2, 0)\n",
      "Go Up\n",
      "I am currently at the position (1, 0)\n",
      "Go Down\n",
      "I am currently at the position (2, 0)\n",
      "Go Up\n",
      "I am currently at the position (1, 0)\n",
      "Go Down\n",
      "I am currently at the position (2, 0)\n",
      "Go Up\n",
      "I am currently at the position (1, 0)\n",
      "Go Down\n",
      "I am currently at the position (2, 0)\n",
      "Go Up\n",
      "I am currently at the position (1, 0)\n",
      "Go Down\n",
      "I am currently at the position (2, 0)\n",
      "Go Up\n",
      "I am currently at the position (1, 0)\n",
      "Go Down\n",
      "I am currently at the position (2, 0)\n",
      "Go Up\n",
      "I am currently at the position (1, 0)\n",
      "Go Down\n",
      "I am currently at the position (2, 0)\n",
      "Go Up\n",
      "I am currently at the position (1, 0)\n",
      "Go Down\n",
      "I am currently at the position (2, 0)\n",
      "Go Up\n",
      "I am currently at the position (1, 0)\n",
      "Go Down\n",
      "I am currently at the position (2, 0)\n",
      "Go Up\n",
      "I am currently at the position (1, 0)\n",
      "Go Down\n",
      "I am currently at the position (2, 0)\n",
      "Go Up\n",
      "I am currently at the position (1, 0)\n",
      "Go Down\n",
      "I am currently at the position (2, 0)\n",
      "Go Up\n",
      "I am currently at the position (1, 0)\n",
      "Go Down\n",
      "I am currently at the position (2, 0)\n",
      "Go Up\n",
      "I am currently at the position (1, 0)\n",
      "Go Down\n",
      "I am currently at the position (2, 0)\n",
      "Go Up\n",
      "I am currently at the position (1, 0)\n",
      "Go Down\n",
      "I am currently at the position (2, 0)\n",
      "Go Up\n",
      "I am currently at the position (1, 0)\n",
      "Go Down\n",
      "I am currently at the position (2, 0)\n",
      "Did not halt, mostly unsolvable maze...\n",
      "I am currently at the position (2, 0)\n"
     ]
    }
   ],
   "source": [
    "status = True\n",
    "while(status):\n",
    "    status = my_agent.move(my_env)\n",
    "    my_agent.tell_pos()"
   ]
  },
  {
   "cell_type": "code",
   "execution_count": 6,
   "id": "92e24ac4",
   "metadata": {},
   "outputs": [],
   "source": [
    "#Custom maze 1 - Single path to goal\n",
    "cust_maze = [['F', 'B', 'B', 'B', 'F'],\n",
    " ['F', 'B', 'B', 'B', 'B'],\n",
    " ['F', 'F', 'F', 'B', 'B'],\n",
    " ['B', 'B', 'F', 'F', 'F'],\n",
    " ['B', 'B', 'B', 'B', 'F']]"
   ]
  },
  {
   "cell_type": "code",
   "execution_count": 7,
   "id": "1333ddad",
   "metadata": {},
   "outputs": [
    {
     "name": "stdout",
     "output_type": "stream",
     "text": [
      "Limit is:  5\n",
      "Goal is:  (4, 4)\n",
      "F B B B F \n",
      "F B B B B \n",
      "F F F B B \n",
      "B B F F F \n",
      "B B B B F \n"
     ]
    }
   ],
   "source": [
    "my_env2 = maze_environment(limit=5, maze=cust_maze, goal=(4, 4))\n",
    "my__agent2 = self_driving_agent()\n",
    "\n",
    "print(\"Limit is: \", my_env2.get_limit())\n",
    "print(\"Goal is: \", my_env2.get_goal())\n",
    "my_env2.show_maze()"
   ]
  },
  {
   "cell_type": "code",
   "execution_count": 8,
   "id": "d22066d4",
   "metadata": {},
   "outputs": [
    {
     "name": "stdout",
     "output_type": "stream",
     "text": [
      "Go Down\n",
      "I am currently at the position (1, 0)\n",
      "Go Down\n",
      "I am currently at the position (2, 0)\n",
      "Go Right\n",
      "I am currently at the position (2, 1)\n",
      "Go Right\n",
      "I am currently at the position (2, 2)\n",
      "Go Down\n",
      "I am currently at the position (3, 2)\n",
      "Go Right\n",
      "I am currently at the position (3, 3)\n",
      "Go Right\n",
      "I am currently at the position (3, 4)\n",
      "Go Down\n",
      "I am currently at the position (4, 4)\n",
      "You have solved the maze and reached the end...\n",
      "I am currently at the position (4, 4)\n"
     ]
    }
   ],
   "source": [
    "status = True\n",
    "while(status):\n",
    "    status = my__agent2.move(my_env2)\n",
    "    my__agent2.tell_pos()"
   ]
  },
  {
   "cell_type": "code",
   "execution_count": 9,
   "id": "f09554ab",
   "metadata": {},
   "outputs": [],
   "source": [
    "#Custom maze 2 - One terminal branch and double width path \n",
    "cust_maze2 = [['F', 'F', 'B', 'B', 'F'],\n",
    "              ['F', 'F', 'B', 'B', 'B'],\n",
    "              ['B', 'F', 'F', 'F', 'F'],\n",
    "              ['B', 'B', 'F', 'B', 'F'],\n",
    "              ['B', 'B', 'B', 'B', 'F']]"
   ]
  },
  {
   "cell_type": "code",
   "execution_count": 10,
   "id": "79b4d337",
   "metadata": {},
   "outputs": [
    {
     "name": "stdout",
     "output_type": "stream",
     "text": [
      "Limit is:  5\n",
      "Goal is:  (4, 4)\n",
      "F F B B F \n",
      "F F B B B \n",
      "B F F F F \n",
      "B B F B F \n",
      "B B B B F \n"
     ]
    }
   ],
   "source": [
    "my_env3 = maze_environment(limit=5, maze=cust_maze2, goal=(4, 4))\n",
    "my__agent3 = self_driving_agent()\n",
    "\n",
    "print(\"Limit is: \", my_env3.get_limit())\n",
    "print(\"Goal is: \", my_env3.get_goal())\n",
    "my_env3.show_maze()"
   ]
  },
  {
   "cell_type": "code",
   "execution_count": 11,
   "id": "af4b0d2a",
   "metadata": {},
   "outputs": [
    {
     "name": "stdout",
     "output_type": "stream",
     "text": [
      "Go Down\n",
      "I am currently at the position (1, 0)\n",
      "Go Right\n",
      "I am currently at the position (1, 1)\n",
      "Go Down\n",
      "I am currently at the position (2, 1)\n",
      "Go Right\n",
      "I am currently at the position (2, 2)\n",
      "Go Down\n",
      "I am currently at the position (3, 2)\n",
      "Go Up\n",
      "I am currently at the position (2, 2)\n",
      "Go Down\n",
      "I am currently at the position (3, 2)\n",
      "Go Up\n",
      "I am currently at the position (2, 2)\n",
      "Go Down\n",
      "I am currently at the position (3, 2)\n",
      "Go Up\n",
      "I am currently at the position (2, 2)\n",
      "Did not halt, mostly unsolvable maze...\n",
      "I am currently at the position (2, 2)\n"
     ]
    }
   ],
   "source": [
    "status = True\n",
    "while(status):\n",
    "    status = my__agent3.move(my_env3)\n",
    "    my__agent3.tell_pos()"
   ]
  },
  {
   "cell_type": "code",
   "execution_count": 12,
   "id": "59c5fe9e",
   "metadata": {},
   "outputs": [],
   "source": [
    "#Custome maze 3 - Multiple terminal branches and last one leads to goal.\n",
    "cust_maze3 = [['F', 'F', 'F', 'B', 'B'],\n",
    "              ['F', 'F', 'B', 'B', 'F'],\n",
    "              ['F', 'B', 'B', 'B', 'B'],\n",
    "              ['F', 'B', 'F', 'F', 'F'],\n",
    "              ['F', 'F', 'F', 'B', 'F']]"
   ]
  },
  {
   "cell_type": "code",
   "execution_count": 13,
   "id": "201585c0",
   "metadata": {},
   "outputs": [
    {
     "name": "stdout",
     "output_type": "stream",
     "text": [
      "Limit is:  5\n",
      "Goal is:  (4, 4)\n",
      "F F F B B \n",
      "F F B B F \n",
      "F B B B B \n",
      "F B F F F \n",
      "F F F B F \n"
     ]
    }
   ],
   "source": [
    "my_env4 = maze_environment(limit=5, maze=cust_maze3, goal=(4, 4))\n",
    "my_agent4 = self_driving_agent()\n",
    "\n",
    "print(\"Limit is: \", my_env4.get_limit())\n",
    "print(\"Goal is: \", my_env4.get_goal())\n",
    "my_env4.show_maze()"
   ]
  },
  {
   "cell_type": "code",
   "execution_count": 14,
   "id": "bcd8b55e",
   "metadata": {},
   "outputs": [
    {
     "name": "stdout",
     "output_type": "stream",
     "text": [
      "Go Down\n",
      "I am currently at the position (1, 0)\n",
      "Go Down\n",
      "I am currently at the position (2, 0)\n",
      "Go Down\n",
      "I am currently at the position (3, 0)\n",
      "Go Down\n",
      "I am currently at the position (4, 0)\n",
      "Go Right\n",
      "I am currently at the position (4, 1)\n",
      "Go Right\n",
      "I am currently at the position (4, 2)\n",
      "Go Up\n",
      "I am currently at the position (3, 2)\n",
      "Go Down\n",
      "I am currently at the position (4, 2)\n",
      "Go Up\n",
      "I am currently at the position (3, 2)\n",
      "Go Down\n",
      "I am currently at the position (4, 2)\n",
      "Did not halt, mostly unsolvable maze...\n",
      "I am currently at the position (4, 2)\n"
     ]
    }
   ],
   "source": [
    "status = True\n",
    "while(status):\n",
    "    status = my_agent4.move(my_env4)\n",
    "    my_agent4.tell_pos()"
   ]
  },
  {
   "cell_type": "markdown",
   "id": "8e62b039",
   "metadata": {},
   "source": [
    "As we can see that this agent has many flaws in it. It only check for location in a fixed order (Down, right, up , left) which cause it to get stuck in many places or loops which is not good. We will improve these things in the next model."
   ]
  },
  {
   "cell_type": "code",
   "execution_count": null,
   "id": "8e14c023",
   "metadata": {},
   "outputs": [],
   "source": []
  }
 ],
 "metadata": {
  "kernelspec": {
   "display_name": "Python 3 (ipykernel)",
   "language": "python",
   "name": "python3"
  },
  "language_info": {
   "codemirror_mode": {
    "name": "ipython",
    "version": 3
   },
   "file_extension": ".py",
   "mimetype": "text/x-python",
   "name": "python",
   "nbconvert_exporter": "python",
   "pygments_lexer": "ipython3",
   "version": "3.9.6"
  }
 },
 "nbformat": 4,
 "nbformat_minor": 5
}
