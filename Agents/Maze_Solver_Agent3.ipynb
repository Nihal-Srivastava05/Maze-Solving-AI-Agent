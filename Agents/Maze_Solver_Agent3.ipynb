{
 "cells": [
  {
   "cell_type": "markdown",
   "id": "bb7c6dab",
   "metadata": {},
   "source": [
    "# Maze Solver -  Modal Based Agent with with Percept Memory"
   ]
  },
  {
   "cell_type": "code",
   "execution_count": 1,
   "id": "781c8ceb",
   "metadata": {},
   "outputs": [],
   "source": [
    "import random\n",
    "import numpy as np"
   ]
  },
  {
   "cell_type": "code",
   "execution_count": 2,
   "id": "cfde1673",
   "metadata": {},
   "outputs": [],
   "source": [
    "'''\n",
    "This class is made to either take in a given maze in an array form along with the max limit and goal state or just\n",
    "randomly make a maze (It does not necessarily have to be a functional maze) which might not have a path too but it useful\n",
    "to test if our agent and know of it will react and which action it will take\n",
    "'''\n",
    "\n",
    "class maze_environment:\n",
    "    def __init__(self, limit=None, maze=None, goal=None):\n",
    "        if(maze is None and limit is None):\n",
    "            self.limit = random.randint(5, 15)\n",
    "            self.goal = (self.limit-1, self.limit-1)\n",
    "            self.maze = []\n",
    "            for i in range(self.limit):\n",
    "                row = []\n",
    "                for j in range(self.limit):\n",
    "                    row.append(random.choice(['F', 'B']))\n",
    "                self.maze.append(row)\n",
    "            self.maze[0][0] = 'F'\n",
    "            self.maze[self.limit-1][self.limit-1] = 'F'\n",
    "        else:\n",
    "            self.maze = maze\n",
    "            self.limit = limit\n",
    "            self.goal = goal\n",
    "    \n",
    "    def get_limit(self):\n",
    "        return self.limit\n",
    "    \n",
    "    def show_maze(self):\n",
    "        for i in range(self.limit):\n",
    "            for j in range(self.limit):\n",
    "                print(self.maze[i][j], end=\" \")\n",
    "            print()\n",
    "    \n",
    "    def get_goal(self):\n",
    "        return self.goal\n",
    "    \n",
    "    def get_position(self, x, y):\n",
    "        if(x > self.limit-1 or y > self.limit-1):\n",
    "            return 'B'\n",
    "        if(x < 0 or y < 0):\n",
    "            return 'B'\n",
    "        return self.maze[x][y]"
   ]
  },
  {
   "cell_type": "markdown",
   "id": "37634138",
   "metadata": {},
   "source": [
    "### Self Driving agent with Percept Memory\n",
    "\n",
    "This agent keeps track of the last time it had to take a decision between two moves using a Queue data structure (i.e follow FIFO), this is will be useful if the agent reaches a deadend then it will revert back to that location and continue from there. This gives it the advantage that it does not have to backtrack from the current location instead it can directly teleport back to a better location and continue with its approach. This fixes the problem of getting stuck in loops or not reaching the braching point and thus reduces the time taken drastically. "
   ]
  },
  {
   "cell_type": "code",
   "execution_count": 3,
   "id": "6a9672b7",
   "metadata": {},
   "outputs": [],
   "source": [
    "class self_driving_agent_memory:\n",
    "    def __init__(self):\n",
    "        self.x = 0\n",
    "        self.y = 0\n",
    "        self.total_steps = 0\n",
    "        self.surrondings = None\n",
    "        self.memory = []\n",
    "        self.recentlyPoped = []\n",
    "        self.prev_move = -1\n",
    "    \n",
    "    def move(self, env):\n",
    "        if(self.x == env.get_goal()[0] and self.y == env.get_goal()[1]):\n",
    "            print(\"You have solved the maze and reached the end...\")\n",
    "            return False\n",
    "        elif(self.total_steps >= env.limit*env.limit):\n",
    "            print(\"Did not halt, mostly unsolvable maze...\")\n",
    "            return False\n",
    "        else:\n",
    "            self.surrondings = [env.get_position(self.x+1, self.y),\n",
    "                                env.get_position(self.x, self.y+1),\n",
    "                                env.get_position(self.x-1, self.y), \n",
    "                                env.get_position(self.x, self.y-1)]\n",
    "            possible_moves = []\n",
    "            num_moves = 0\n",
    "            for i in range(len(self.surrondings)):\n",
    "                if self.surrondings[i] == 'F':\n",
    "                    possible_moves.append(i)\n",
    "                    num_moves += 1\n",
    "            \n",
    "            if(self.prev_move == 0):\n",
    "                if(2 in possible_moves):\n",
    "                    possible_moves.remove(2)\n",
    "            elif(self.prev_move == 2):\n",
    "                if(0 in possible_moves):\n",
    "                    possible_moves.remove(0)\n",
    "            elif(self.prev_move == 1):\n",
    "                if(3 in possible_moves):\n",
    "                    possible_moves.remove(3)\n",
    "            elif(self.prev_move == 3):\n",
    "                if(1 in possible_moves):\n",
    "                    possible_moves.remove(1)\n",
    "                    \n",
    "            if(num_moves > 1):\n",
    "                if(not self.recentlyPoped):\n",
    "                    self.memory.append([self.x, self.y])\n",
    "                elif(not(self.recentlyPoped[0] == self.x and self.recentlyPoped[1] == self.y)):\n",
    "                    self.memory.append([self.x, self.y])\n",
    "            \n",
    "            if(possible_moves):\n",
    "                random_move = random.choice(possible_moves)\n",
    "                if(random_move == 0):\n",
    "                    self.x += 1\n",
    "                    self.prev_move = 0\n",
    "                    print(\"Go Down\")\n",
    "                elif(random_move == 1):\n",
    "                    self.y += 1\n",
    "                    self.prev_move = 1\n",
    "                    print(\"Go Right\")\n",
    "                elif(random_move == 2):\n",
    "                    self.x -= 1\n",
    "                    self.prev_move = 2\n",
    "                    print(\"Go Up\")\n",
    "                elif(random_move == 3):\n",
    "                    self.y -= 1\n",
    "                    self.prev_move = 3\n",
    "                    print(\"Go Left\")\n",
    "                else:\n",
    "                    print(\"Maze is blocked for all the places...\")\n",
    "                    return False\n",
    "            else:\n",
    "                if(not self.memory):\n",
    "                    print(\"Unsolvable maze, no route to exit...\")\n",
    "                    return False\n",
    "                last_choice_position = self.memory.pop(0)\n",
    "                self.x = last_choice_position[0]\n",
    "                self.y = last_choice_position[1]\n",
    "                self.recentlyPoped = last_choice_position\n",
    "                self.total_steps = 0\n",
    "            \n",
    "            self.total_steps += 1\n",
    "            return True\n",
    "\n",
    "    def tell_pos(self):\n",
    "        print(\"I am currently at the position ({}, {})\".format(self.x, self.y))"
   ]
  },
  {
   "cell_type": "markdown",
   "id": "b07d9c86",
   "metadata": {},
   "source": [
    "### Running the agent in different environments"
   ]
  },
  {
   "cell_type": "code",
   "execution_count": 4,
   "id": "1cea9422",
   "metadata": {},
   "outputs": [
    {
     "name": "stdout",
     "output_type": "stream",
     "text": [
      "Limit is:  6\n",
      "Goal is:  (5, 5)\n",
      "F B B B F F \n",
      "F B F F F F \n",
      "B B B B B B \n",
      "B F B B B B \n",
      "B B F F F B \n",
      "B F B B F F \n"
     ]
    }
   ],
   "source": [
    "#Randomly generated environment\n",
    "my_env = maze_environment()\n",
    "my_agent = self_driving_agent_memory()\n",
    "\n",
    "print(\"Limit is: \", my_env.get_limit())\n",
    "print(\"Goal is: \", my_env.get_goal())\n",
    "my_env.show_maze()"
   ]
  },
  {
   "cell_type": "code",
   "execution_count": 5,
   "id": "39e1756e",
   "metadata": {},
   "outputs": [
    {
     "name": "stdout",
     "output_type": "stream",
     "text": [
      "Go Down\n",
      "I am currently at the position (1, 0)\n",
      "Unsolvable maze, no route to exit...\n",
      "I am currently at the position (1, 0)\n"
     ]
    }
   ],
   "source": [
    "status = True\n",
    "while(status):\n",
    "    status = my_agent.move(my_env)\n",
    "    my_agent.tell_pos()"
   ]
  },
  {
   "cell_type": "code",
   "execution_count": 6,
   "id": "c8027dd2",
   "metadata": {},
   "outputs": [],
   "source": [
    "#Custom maze 1 - Single path to goal\n",
    "cust_maze = [['F', 'B', 'B', 'B', 'F'],\n",
    " ['F', 'B', 'B', 'B', 'B'],\n",
    " ['F', 'F', 'F', 'B', 'B'],\n",
    " ['B', 'B', 'F', 'F', 'F'],\n",
    " ['B', 'B', 'B', 'B', 'F']]"
   ]
  },
  {
   "cell_type": "code",
   "execution_count": 7,
   "id": "224defaa",
   "metadata": {},
   "outputs": [
    {
     "name": "stdout",
     "output_type": "stream",
     "text": [
      "Limit is:  5\n",
      "Goal is:  (4, 4)\n",
      "F B B B F \n",
      "F B B B B \n",
      "F F F B B \n",
      "B B F F F \n",
      "B B B B F \n"
     ]
    }
   ],
   "source": [
    "my_env2 = maze_environment(limit=5, maze=cust_maze, goal=(4, 4))\n",
    "my__agent2 = self_driving_agent_memory()\n",
    "\n",
    "print(\"Limit is: \", my_env2.get_limit())\n",
    "print(\"Goal is: \", my_env2.get_goal())\n",
    "my_env2.show_maze()"
   ]
  },
  {
   "cell_type": "code",
   "execution_count": 8,
   "id": "048e1c3a",
   "metadata": {},
   "outputs": [
    {
     "name": "stdout",
     "output_type": "stream",
     "text": [
      "Go Down\n",
      "I am currently at the position (1, 0)\n",
      "Go Down\n",
      "I am currently at the position (2, 0)\n",
      "Go Right\n",
      "I am currently at the position (2, 1)\n",
      "Go Right\n",
      "I am currently at the position (2, 2)\n",
      "Go Down\n",
      "I am currently at the position (3, 2)\n",
      "Go Right\n",
      "I am currently at the position (3, 3)\n",
      "Go Right\n",
      "I am currently at the position (3, 4)\n",
      "Go Down\n",
      "I am currently at the position (4, 4)\n",
      "You have solved the maze and reached the end...\n",
      "I am currently at the position (4, 4)\n"
     ]
    }
   ],
   "source": [
    "status = True\n",
    "while(status):\n",
    "    status = my__agent2.move(my_env2)\n",
    "    my__agent2.tell_pos()"
   ]
  },
  {
   "cell_type": "code",
   "execution_count": 9,
   "id": "6205ad8c",
   "metadata": {},
   "outputs": [],
   "source": [
    "#Custom maze 2 - One terminal branch and double width path \n",
    "cust_maze2 = [['F', 'F', 'B', 'B', 'F'],\n",
    "              ['F', 'F', 'B', 'B', 'B'],\n",
    "              ['B', 'F', 'F', 'F', 'F'],\n",
    "              ['B', 'B', 'F', 'B', 'F'],\n",
    "              ['B', 'B', 'B', 'B', 'F']]"
   ]
  },
  {
   "cell_type": "code",
   "execution_count": 10,
   "id": "f169af3e",
   "metadata": {},
   "outputs": [
    {
     "name": "stdout",
     "output_type": "stream",
     "text": [
      "Limit is:  5\n",
      "Goal is:  (4, 4)\n",
      "F F B B F \n",
      "F F B B B \n",
      "B F F F F \n",
      "B B F B F \n",
      "B B B B F \n"
     ]
    }
   ],
   "source": [
    "my_env3 = maze_environment(limit=5, maze=cust_maze2, goal=(4, 4))\n",
    "my__agent3 = self_driving_agent_memory()\n",
    "\n",
    "print(\"Limit is: \", my_env3.get_limit())\n",
    "print(\"Goal is: \", my_env3.get_goal())\n",
    "my_env3.show_maze()"
   ]
  },
  {
   "cell_type": "code",
   "execution_count": 11,
   "id": "db84e063",
   "metadata": {},
   "outputs": [
    {
     "name": "stdout",
     "output_type": "stream",
     "text": [
      "Go Right\n",
      "I am currently at the position (0, 1)\n",
      "Go Down\n",
      "I am currently at the position (1, 1)\n",
      "Go Left\n",
      "I am currently at the position (1, 0)\n",
      "Go Up\n",
      "I am currently at the position (0, 0)\n",
      "Go Right\n",
      "I am currently at the position (0, 1)\n",
      "Go Down\n",
      "I am currently at the position (1, 1)\n",
      "Go Left\n",
      "I am currently at the position (1, 0)\n",
      "Go Up\n",
      "I am currently at the position (0, 0)\n",
      "Go Right\n",
      "I am currently at the position (0, 1)\n",
      "Go Down\n",
      "I am currently at the position (1, 1)\n",
      "Go Down\n",
      "I am currently at the position (2, 1)\n",
      "Go Right\n",
      "I am currently at the position (2, 2)\n",
      "Go Right\n",
      "I am currently at the position (2, 3)\n",
      "Go Right\n",
      "I am currently at the position (2, 4)\n",
      "Go Down\n",
      "I am currently at the position (3, 4)\n",
      "Go Down\n",
      "I am currently at the position (4, 4)\n",
      "You have solved the maze and reached the end...\n",
      "I am currently at the position (4, 4)\n"
     ]
    }
   ],
   "source": [
    "status = True\n",
    "while(status):\n",
    "    status = my__agent3.move(my_env3)\n",
    "    my__agent3.tell_pos()"
   ]
  },
  {
   "cell_type": "code",
   "execution_count": 12,
   "id": "93fc7b45",
   "metadata": {},
   "outputs": [],
   "source": [
    "#Custome maze 3 - Multiple terminal branches and last one leads to goal.\n",
    "cust_maze3 = [['F', 'F', 'F', 'B', 'B'],\n",
    "              ['F', 'F', 'B', 'B', 'F'],\n",
    "              ['F', 'B', 'B', 'B', 'B'],\n",
    "              ['F', 'B', 'F', 'F', 'F'],\n",
    "              ['F', 'F', 'F', 'B', 'F']]"
   ]
  },
  {
   "cell_type": "code",
   "execution_count": 13,
   "id": "6f139458",
   "metadata": {},
   "outputs": [
    {
     "name": "stdout",
     "output_type": "stream",
     "text": [
      "Limit is:  5\n",
      "Goal is:  (4, 4)\n",
      "F F F B B \n",
      "F F B B F \n",
      "F B B B B \n",
      "F B F F F \n",
      "F F F B F \n"
     ]
    }
   ],
   "source": [
    "my_env4 = maze_environment(limit=5, maze=cust_maze3, goal=(4, 4))\n",
    "my_agent4 = self_driving_agent_memory()\n",
    "\n",
    "print(\"Limit is: \", my_env4.get_limit())\n",
    "print(\"Goal is: \", my_env4.get_goal())\n",
    "my_env4.show_maze()"
   ]
  },
  {
   "cell_type": "code",
   "execution_count": 14,
   "id": "0ba4c78e",
   "metadata": {},
   "outputs": [
    {
     "name": "stdout",
     "output_type": "stream",
     "text": [
      "Go Down\n",
      "I am currently at the position (1, 0)\n",
      "Go Right\n",
      "I am currently at the position (1, 1)\n",
      "Go Up\n",
      "I am currently at the position (0, 1)\n",
      "Go Left\n",
      "I am currently at the position (0, 0)\n",
      "Go Down\n",
      "I am currently at the position (1, 0)\n",
      "Go Right\n",
      "I am currently at the position (1, 1)\n",
      "Go Up\n",
      "I am currently at the position (0, 1)\n",
      "Go Left\n",
      "I am currently at the position (0, 0)\n",
      "Go Down\n",
      "I am currently at the position (1, 0)\n",
      "Go Right\n",
      "I am currently at the position (1, 1)\n",
      "Go Up\n",
      "I am currently at the position (0, 1)\n",
      "Go Left\n",
      "I am currently at the position (0, 0)\n",
      "Go Down\n",
      "I am currently at the position (1, 0)\n",
      "Go Down\n",
      "I am currently at the position (2, 0)\n",
      "Go Down\n",
      "I am currently at the position (3, 0)\n",
      "Go Down\n",
      "I am currently at the position (4, 0)\n",
      "Go Right\n",
      "I am currently at the position (4, 1)\n",
      "Go Right\n",
      "I am currently at the position (4, 2)\n",
      "Go Up\n",
      "I am currently at the position (3, 2)\n",
      "Go Right\n",
      "I am currently at the position (3, 3)\n",
      "Go Right\n",
      "I am currently at the position (3, 4)\n",
      "Go Down\n",
      "I am currently at the position (4, 4)\n",
      "You have solved the maze and reached the end...\n",
      "I am currently at the position (4, 4)\n"
     ]
    }
   ],
   "source": [
    "status = True\n",
    "while(status):\n",
    "    status = my_agent4.move(my_env4)\n",
    "    my_agent4.tell_pos()"
   ]
  },
  {
   "cell_type": "markdown",
   "id": "1109980a",
   "metadata": {},
   "source": [
    "As we can see this is a much better agent which has more consistency present in it along with a better judgement of the environment as it keeps track of the last decision point so it also know if this is a blocked maze (No way to goal) and return it as the result."
   ]
  },
  {
   "cell_type": "code",
   "execution_count": null,
   "id": "72e19ea4",
   "metadata": {},
   "outputs": [],
   "source": []
  }
 ],
 "metadata": {
  "kernelspec": {
   "display_name": "Python 3 (ipykernel)",
   "language": "python",
   "name": "python3"
  },
  "language_info": {
   "codemirror_mode": {
    "name": "ipython",
    "version": 3
   },
   "file_extension": ".py",
   "mimetype": "text/x-python",
   "name": "python",
   "nbconvert_exporter": "python",
   "pygments_lexer": "ipython3",
   "version": "3.9.6"
  }
 },
 "nbformat": 4,
 "nbformat_minor": 5
}
