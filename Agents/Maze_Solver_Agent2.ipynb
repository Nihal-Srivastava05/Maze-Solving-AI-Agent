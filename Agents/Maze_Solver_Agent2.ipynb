{
 "cells": [
  {
   "cell_type": "markdown",
   "id": "5da8f2e7",
   "metadata": {},
   "source": [
    "# Maze Solver -  Modal Based Agent with Random Moves"
   ]
  },
  {
   "cell_type": "code",
   "execution_count": 1,
   "id": "b45054f9",
   "metadata": {},
   "outputs": [],
   "source": [
    "import random\n",
    "import numpy as np"
   ]
  },
  {
   "cell_type": "code",
   "execution_count": 2,
   "id": "6da69a7b",
   "metadata": {},
   "outputs": [],
   "source": [
    "'''\n",
    "This class is made to either take in a given maze in an array form along with the max limit and goal state or just\n",
    "randomly make a maze (It does not necessarily have to be a functional maze) which might not have a path too but it useful\n",
    "to test if our agent and know of it will react and which action it will take\n",
    "'''\n",
    "\n",
    "class maze_environment:\n",
    "    def __init__(self, limit=None, maze=None, goal=None):\n",
    "        if(maze is None and limit is None):\n",
    "            self.limit = random.randint(5, 15)\n",
    "            self.goal = (self.limit-1, self.limit-1)\n",
    "            self.maze = []\n",
    "            for i in range(self.limit):\n",
    "                row = []\n",
    "                for j in range(self.limit):\n",
    "                    row.append(random.choice(['F', 'B']))\n",
    "                self.maze.append(row)\n",
    "            self.maze[0][0] = 'F'\n",
    "            self.maze[self.limit-1][self.limit-1] = 'F'\n",
    "        else:\n",
    "            self.maze = maze\n",
    "            self.limit = limit\n",
    "            self.goal = goal\n",
    "    \n",
    "    def get_limit(self):\n",
    "        return self.limit\n",
    "    \n",
    "    def show_maze(self):\n",
    "        for i in range(self.limit):\n",
    "            for j in range(self.limit):\n",
    "                print(self.maze[i][j], end=\" \")\n",
    "            print()\n",
    "    \n",
    "    def get_goal(self):\n",
    "        return self.goal\n",
    "    \n",
    "    def get_position(self, x, y):\n",
    "        if(x > self.limit-1 or y > self.limit-1):\n",
    "            return 'B'\n",
    "        if(x < 0 or y < 0):\n",
    "            return 'B'\n",
    "        return self.maze[x][y]"
   ]
  },
  {
   "cell_type": "markdown",
   "id": "9b498cd9",
   "metadata": {},
   "source": [
    "### Self driving agent with Random moves\n",
    "\n",
    "As seen in the previous agent which can get stuck in terminal branches I have added a random motions along with previous state knowldege which helps it not get stuck in loops (constant up and down or left and right). Here we scan the environment and see all directions. Next we collect all possible movements in a list and remove the opposite of the previous move from it (Ex: If we moved up before remove down vice vera) and select a random move from the remaining list. This will help us to avoid getting stuck in consant up and down or left right motion but will cause one problem I will explain in the end."
   ]
  },
  {
   "cell_type": "code",
   "execution_count": 3,
   "id": "cb310b9f",
   "metadata": {},
   "outputs": [],
   "source": [
    "class self_driving_random_agent:\n",
    "    def __init__(self):\n",
    "        self.x = 0\n",
    "        self.y = 0\n",
    "        self.total_steps = 0\n",
    "        self.surrondings = None\n",
    "        self.prev_move = -1\n",
    "    \n",
    "    def move(self, env):\n",
    "        if(self.x == env.get_goal()[0] and self.y == env.get_goal()[1]):\n",
    "            print(\"You have solved the maze and reached the end...\")\n",
    "            return False\n",
    "        elif(self.total_steps >= env.limit*env.limit):\n",
    "            print(\"Did not halt, mostly unsolvable maze...\")\n",
    "            return False\n",
    "        else:\n",
    "            self.surrondings = [env.get_position(self.x+1, self.y),\n",
    "                                env.get_position(self.x, self.y+1),\n",
    "                                env.get_position(self.x-1, self.y), \n",
    "                                env.get_position(self.x, self.y-1)]\n",
    "            possible_moves = []\n",
    "            for i in range(len(self.surrondings)):\n",
    "                if self.surrondings[i] == 'F':\n",
    "                    possible_moves.append(i)\n",
    "            \n",
    "            if(self.prev_move == 0):\n",
    "                if(2 in possible_moves):\n",
    "                    possible_moves.remove(2)\n",
    "            elif(self.prev_move == 2):\n",
    "                if(0 in possible_moves):\n",
    "                    possible_moves.remove(0)\n",
    "            elif(self.prev_move == 1):\n",
    "                if(3 in possible_moves):\n",
    "                    possible_moves.remove(3)\n",
    "            elif(self.prev_move == 3):\n",
    "                if(1 in possible_moves):\n",
    "                    possible_moves.remove(1)\n",
    "            \n",
    "            if(possible_moves):\n",
    "                random_move = random.choice(possible_moves)\n",
    "                if(random_move == 0):\n",
    "                    self.x += 1\n",
    "                    self.prev_move = 0\n",
    "                    print(\"Go Down\")\n",
    "                elif(random_move == 1):\n",
    "                    self.y += 1\n",
    "                    self.prev_move = 1\n",
    "                    print(\"Go Right\")\n",
    "                elif(random_move == 2):\n",
    "                    self.x -= 1\n",
    "                    self.prev_move = 2\n",
    "                    print(\"Go Up\")\n",
    "                elif(random_move == 3):\n",
    "                    self.y -= 1\n",
    "                    self.prev_move = 3\n",
    "                    print(\"Go Left\")\n",
    "                else:\n",
    "                    print(\"Maze is blocked for all the places...\")\n",
    "                    return False\n",
    "            \n",
    "            self.total_steps += 1\n",
    "            return True\n",
    "    \n",
    "    def tell_pos(self):\n",
    "        print(\"I am currently at the position ({}, {})\".format(self.x, self.y))"
   ]
  },
  {
   "cell_type": "markdown",
   "id": "bd489410",
   "metadata": {},
   "source": [
    "### Running the agent in different environments"
   ]
  },
  {
   "cell_type": "code",
   "execution_count": 4,
   "id": "0c5c6eb0",
   "metadata": {},
   "outputs": [
    {
     "name": "stdout",
     "output_type": "stream",
     "text": [
      "Limit is:  7\n",
      "Goal is:  (6, 6)\n",
      "F F B F B B B \n",
      "F B B F B B B \n",
      "B F B F B F B \n",
      "B B F F B B B \n",
      "B B B B B B F \n",
      "F F F F F B B \n",
      "F F F B F B F \n"
     ]
    }
   ],
   "source": [
    "#Randomly generated environment\n",
    "my_env = maze_environment()\n",
    "my_agent = self_driving_random_agent()\n",
    "\n",
    "print(\"Limit is: \", my_env.get_limit())\n",
    "print(\"Goal is: \", my_env.get_goal())\n",
    "my_env.show_maze()"
   ]
  },
  {
   "cell_type": "code",
   "execution_count": 5,
   "id": "7b84bb43",
   "metadata": {},
   "outputs": [
    {
     "name": "stdout",
     "output_type": "stream",
     "text": [
      "Go Down\n",
      "I am currently at the position (1, 0)\n",
      "I am currently at the position (1, 0)\n",
      "I am currently at the position (1, 0)\n",
      "I am currently at the position (1, 0)\n",
      "I am currently at the position (1, 0)\n",
      "I am currently at the position (1, 0)\n",
      "I am currently at the position (1, 0)\n",
      "I am currently at the position (1, 0)\n",
      "I am currently at the position (1, 0)\n",
      "I am currently at the position (1, 0)\n",
      "I am currently at the position (1, 0)\n",
      "I am currently at the position (1, 0)\n",
      "I am currently at the position (1, 0)\n",
      "I am currently at the position (1, 0)\n",
      "I am currently at the position (1, 0)\n",
      "I am currently at the position (1, 0)\n",
      "I am currently at the position (1, 0)\n",
      "I am currently at the position (1, 0)\n",
      "I am currently at the position (1, 0)\n",
      "I am currently at the position (1, 0)\n",
      "I am currently at the position (1, 0)\n",
      "I am currently at the position (1, 0)\n",
      "I am currently at the position (1, 0)\n",
      "I am currently at the position (1, 0)\n",
      "I am currently at the position (1, 0)\n",
      "I am currently at the position (1, 0)\n",
      "I am currently at the position (1, 0)\n",
      "I am currently at the position (1, 0)\n",
      "I am currently at the position (1, 0)\n",
      "I am currently at the position (1, 0)\n",
      "I am currently at the position (1, 0)\n",
      "I am currently at the position (1, 0)\n",
      "I am currently at the position (1, 0)\n",
      "I am currently at the position (1, 0)\n",
      "I am currently at the position (1, 0)\n",
      "I am currently at the position (1, 0)\n",
      "I am currently at the position (1, 0)\n",
      "I am currently at the position (1, 0)\n",
      "I am currently at the position (1, 0)\n",
      "I am currently at the position (1, 0)\n",
      "I am currently at the position (1, 0)\n",
      "I am currently at the position (1, 0)\n",
      "I am currently at the position (1, 0)\n",
      "I am currently at the position (1, 0)\n",
      "I am currently at the position (1, 0)\n",
      "I am currently at the position (1, 0)\n",
      "I am currently at the position (1, 0)\n",
      "I am currently at the position (1, 0)\n",
      "I am currently at the position (1, 0)\n",
      "Did not halt, mostly unsolvable maze...\n",
      "I am currently at the position (1, 0)\n"
     ]
    }
   ],
   "source": [
    "status = True\n",
    "while(status):\n",
    "    status = my_agent.move(my_env)\n",
    "    my_agent.tell_pos()"
   ]
  },
  {
   "cell_type": "code",
   "execution_count": 6,
   "id": "83f28c7f",
   "metadata": {},
   "outputs": [],
   "source": [
    "#Custom maze 1 - Single path to goal\n",
    "cust_maze = [['F', 'B', 'B', 'B', 'F'],\n",
    " ['F', 'B', 'B', 'B', 'B'],\n",
    " ['F', 'F', 'F', 'B', 'B'],\n",
    " ['B', 'B', 'F', 'F', 'F'],\n",
    " ['B', 'B', 'B', 'B', 'F']]"
   ]
  },
  {
   "cell_type": "code",
   "execution_count": 7,
   "id": "3d815bc4",
   "metadata": {},
   "outputs": [
    {
     "name": "stdout",
     "output_type": "stream",
     "text": [
      "Limit is:  5\n",
      "Goal is:  (4, 4)\n",
      "F B B B F \n",
      "F B B B B \n",
      "F F F B B \n",
      "B B F F F \n",
      "B B B B F \n"
     ]
    }
   ],
   "source": [
    "my_env2 = maze_environment(limit=5, maze=cust_maze, goal=(4, 4))\n",
    "my_agent2 = self_driving_random_agent()\n",
    "\n",
    "print(\"Limit is: \", my_env2.get_limit())\n",
    "print(\"Goal is: \", my_env2.get_goal())\n",
    "my_env2.show_maze()"
   ]
  },
  {
   "cell_type": "code",
   "execution_count": 8,
   "id": "2cc908ec",
   "metadata": {},
   "outputs": [
    {
     "name": "stdout",
     "output_type": "stream",
     "text": [
      "Go Down\n",
      "I am currently at the position (1, 0)\n",
      "Go Down\n",
      "I am currently at the position (2, 0)\n",
      "Go Right\n",
      "I am currently at the position (2, 1)\n",
      "Go Right\n",
      "I am currently at the position (2, 2)\n",
      "Go Down\n",
      "I am currently at the position (3, 2)\n",
      "Go Right\n",
      "I am currently at the position (3, 3)\n",
      "Go Right\n",
      "I am currently at the position (3, 4)\n",
      "Go Down\n",
      "I am currently at the position (4, 4)\n",
      "You have solved the maze and reached the end...\n",
      "I am currently at the position (4, 4)\n"
     ]
    }
   ],
   "source": [
    "status = True\n",
    "while(status):\n",
    "    status = my_agent2.move(my_env2)\n",
    "    my_agent2.tell_pos()"
   ]
  },
  {
   "cell_type": "code",
   "execution_count": 9,
   "id": "c221b9b3",
   "metadata": {},
   "outputs": [],
   "source": [
    "#Custom maze 2 - One terminal branch and double width path \n",
    "cust_maze2 = [['F', 'F', 'B', 'B', 'F'],\n",
    "              ['F', 'F', 'B', 'B', 'B'],\n",
    "              ['B', 'F', 'F', 'F', 'F'],\n",
    "              ['B', 'B', 'F', 'B', 'F'],\n",
    "              ['B', 'B', 'B', 'B', 'F']]"
   ]
  },
  {
   "cell_type": "code",
   "execution_count": 10,
   "id": "e5a26fc7",
   "metadata": {},
   "outputs": [
    {
     "name": "stdout",
     "output_type": "stream",
     "text": [
      "Limit is:  5\n",
      "Goal is:  (4, 4)\n",
      "F F B B F \n",
      "F F B B B \n",
      "B F F F F \n",
      "B B F B F \n",
      "B B B B F \n"
     ]
    }
   ],
   "source": [
    "my_env3 = maze_environment(limit=5, maze=cust_maze2, goal=(4, 4))\n",
    "my_agent3 = self_driving_random_agent()\n",
    "\n",
    "print(\"Limit is: \", my_env3.get_limit())\n",
    "print(\"Goal is: \", my_env3.get_goal())\n",
    "my_env3.show_maze()"
   ]
  },
  {
   "cell_type": "code",
   "execution_count": 11,
   "id": "add8791f",
   "metadata": {},
   "outputs": [
    {
     "name": "stdout",
     "output_type": "stream",
     "text": [
      "Go Down\n",
      "I am currently at the position (1, 0)\n",
      "Go Right\n",
      "I am currently at the position (1, 1)\n",
      "Go Down\n",
      "I am currently at the position (2, 1)\n",
      "Go Right\n",
      "I am currently at the position (2, 2)\n",
      "Go Down\n",
      "I am currently at the position (3, 2)\n",
      "I am currently at the position (3, 2)\n",
      "I am currently at the position (3, 2)\n",
      "I am currently at the position (3, 2)\n",
      "I am currently at the position (3, 2)\n",
      "I am currently at the position (3, 2)\n",
      "I am currently at the position (3, 2)\n",
      "I am currently at the position (3, 2)\n",
      "I am currently at the position (3, 2)\n",
      "I am currently at the position (3, 2)\n",
      "I am currently at the position (3, 2)\n",
      "I am currently at the position (3, 2)\n",
      "I am currently at the position (3, 2)\n",
      "I am currently at the position (3, 2)\n",
      "I am currently at the position (3, 2)\n",
      "I am currently at the position (3, 2)\n",
      "I am currently at the position (3, 2)\n",
      "I am currently at the position (3, 2)\n",
      "I am currently at the position (3, 2)\n",
      "I am currently at the position (3, 2)\n",
      "I am currently at the position (3, 2)\n",
      "Did not halt, mostly unsolvable maze...\n",
      "I am currently at the position (3, 2)\n"
     ]
    }
   ],
   "source": [
    "status = True\n",
    "while(status):\n",
    "    status = my_agent3.move(my_env3)\n",
    "    my_agent3.tell_pos()"
   ]
  },
  {
   "cell_type": "code",
   "execution_count": 12,
   "id": "8417e6f2",
   "metadata": {},
   "outputs": [],
   "source": [
    "#Custome maze 3 - Multiple terminal branches and last one leads to goal.\n",
    "cust_maze3 = [['F', 'F', 'F', 'B', 'B'],\n",
    "              ['F', 'F', 'B', 'B', 'F'],\n",
    "              ['F', 'B', 'B', 'B', 'B'],\n",
    "              ['F', 'B', 'F', 'F', 'F'],\n",
    "              ['F', 'F', 'F', 'B', 'F']]"
   ]
  },
  {
   "cell_type": "code",
   "execution_count": 13,
   "id": "ccde59ce",
   "metadata": {},
   "outputs": [
    {
     "name": "stdout",
     "output_type": "stream",
     "text": [
      "Limit is:  5\n",
      "Goal is:  (4, 4)\n",
      "F F F B B \n",
      "F F B B F \n",
      "F B B B B \n",
      "F B F F F \n",
      "F F F B F \n"
     ]
    }
   ],
   "source": [
    "my_env4 = maze_environment(limit=5, maze=cust_maze3, goal=(4, 4))\n",
    "my_agent4 = self_driving_random_agent()\n",
    "\n",
    "print(\"Limit is: \", my_env4.get_limit())\n",
    "print(\"Goal is: \", my_env4.get_goal())\n",
    "my_env4.show_maze()"
   ]
  },
  {
   "cell_type": "code",
   "execution_count": 14,
   "id": "431faa3e",
   "metadata": {},
   "outputs": [
    {
     "name": "stdout",
     "output_type": "stream",
     "text": [
      "Go Down\n",
      "I am currently at the position (1, 0)\n",
      "Go Right\n",
      "I am currently at the position (1, 1)\n",
      "Go Up\n",
      "I am currently at the position (0, 1)\n",
      "Go Right\n",
      "I am currently at the position (0, 2)\n",
      "I am currently at the position (0, 2)\n",
      "I am currently at the position (0, 2)\n",
      "I am currently at the position (0, 2)\n",
      "I am currently at the position (0, 2)\n",
      "I am currently at the position (0, 2)\n",
      "I am currently at the position (0, 2)\n",
      "I am currently at the position (0, 2)\n",
      "I am currently at the position (0, 2)\n",
      "I am currently at the position (0, 2)\n",
      "I am currently at the position (0, 2)\n",
      "I am currently at the position (0, 2)\n",
      "I am currently at the position (0, 2)\n",
      "I am currently at the position (0, 2)\n",
      "I am currently at the position (0, 2)\n",
      "I am currently at the position (0, 2)\n",
      "I am currently at the position (0, 2)\n",
      "I am currently at the position (0, 2)\n",
      "I am currently at the position (0, 2)\n",
      "I am currently at the position (0, 2)\n",
      "I am currently at the position (0, 2)\n",
      "I am currently at the position (0, 2)\n",
      "Did not halt, mostly unsolvable maze...\n",
      "I am currently at the position (0, 2)\n"
     ]
    }
   ],
   "source": [
    "status = True\n",
    "while(status):\n",
    "    status = my_agent4.move(my_env4)\n",
    "    my_agent4.tell_pos()"
   ]
  },
  {
   "cell_type": "markdown",
   "id": "9ebd864a",
   "metadata": {},
   "source": [
    "As we can see that this model is not consistent and will often get stuck in terminal branches but when run indefinitely can solve a given maze as it has randomness put in it so has a chance to reach the goal state at some point. Hence we must try to get consistency and better judgement of the environment in our next model."
   ]
  },
  {
   "cell_type": "code",
   "execution_count": null,
   "id": "b28c7a74",
   "metadata": {},
   "outputs": [],
   "source": []
  }
 ],
 "metadata": {
  "kernelspec": {
   "display_name": "Python 3 (ipykernel)",
   "language": "python",
   "name": "python3"
  },
  "language_info": {
   "codemirror_mode": {
    "name": "ipython",
    "version": 3
   },
   "file_extension": ".py",
   "mimetype": "text/x-python",
   "name": "python",
   "nbconvert_exporter": "python",
   "pygments_lexer": "ipython3",
   "version": "3.9.6"
  }
 },
 "nbformat": 4,
 "nbformat_minor": 5
}
