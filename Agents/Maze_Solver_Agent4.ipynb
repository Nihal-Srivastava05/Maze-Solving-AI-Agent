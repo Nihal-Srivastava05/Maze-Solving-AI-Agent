{
 "cells": [
  {
   "cell_type": "markdown",
   "id": "cdb8fc40",
   "metadata": {},
   "source": [
    "# Maze Solving Agent 4 with complete branch memory\n",
    "\n",
    "This agent have better understanding of its environment and accordingly takes its random move. Here it does not know places it has not gone yet but keeps track of the branches gone so far and accordingly takes the required action in future (i.e. knows which location to go and where from there). This helps avoiding repeated motions in straight line paths."
   ]
  },
  {
   "cell_type": "code",
   "execution_count": 1,
   "id": "9296e8e5",
   "metadata": {},
   "outputs": [],
   "source": [
    "import random\n",
    "import numpy as np"
   ]
  },
  {
   "cell_type": "code",
   "execution_count": 2,
   "id": "2a68fe86",
   "metadata": {},
   "outputs": [],
   "source": [
    "'''\n",
    "This class is made to either take in a given maze in an array form along with the max limit and goal state or just\n",
    "randomly make a maze (It does not necessarily have to be a functional maze) which might not have a path too but it useful\n",
    "to test if our agent and know of it will react and which action it will take\n",
    "'''\n",
    "\n",
    "class maze_environment:\n",
    "    def __init__(self, limit=None, maze=None, goal=None):\n",
    "        if(maze is None and limit is None):\n",
    "            self.limit = random.randint(5, 15)\n",
    "            self.goal = (self.limit-1, self.limit-1)\n",
    "            self.maze = []\n",
    "            for i in range(self.limit):\n",
    "                row = []\n",
    "                for j in range(self.limit):\n",
    "                    row.append(random.choice(['F', 'B']))\n",
    "                self.maze.append(row)\n",
    "            self.maze[0][0] = 'F'\n",
    "            self.maze[self.limit-1][self.limit-1] = 'F'\n",
    "        else:\n",
    "            self.maze = maze\n",
    "            self.limit = limit\n",
    "            self.goal = goal\n",
    "    \n",
    "    def get_limit(self):\n",
    "        return self.limit\n",
    "    \n",
    "    def show_maze(self):\n",
    "        for i in range(self.limit):\n",
    "            for j in range(self.limit):\n",
    "                print(self.maze[i][j], end=\" \")\n",
    "            print()\n",
    "    \n",
    "    def get_goal(self):\n",
    "        return self.goal\n",
    "    \n",
    "    def get_position(self, x, y):\n",
    "        if(x > self.limit-1 or y > self.limit-1):\n",
    "            return 'B'\n",
    "        if(x < 0 or y < 0):\n",
    "            return 'B'\n",
    "        return self.maze[x][y]"
   ]
  },
  {
   "cell_type": "code",
   "execution_count": 3,
   "id": "5a85dfab",
   "metadata": {},
   "outputs": [],
   "source": [
    "class maze_solver_full_memory:\n",
    "    def __init__(self):\n",
    "        self.x = 0\n",
    "        self.y = 0\n",
    "        self.total_steps = 0\n",
    "        self.prev_move = -1\n",
    "        self.branches = {}\n",
    "    \n",
    "    def tell_pos(self):\n",
    "        print(\"I am currently at the position ({}, {})\".format(self.x, self.y))\n",
    "    \n",
    "    def move(self, env):\n",
    "        if(self.x == env.get_goal()[0] and self.y == env.get_goal()[1]):\n",
    "            print(\"You have solved the maze and reached the end...\")\n",
    "            return False\n",
    "        elif(self.total_steps >= env.limit*env.limit):\n",
    "            print(\"Did not halt, mostly unsolvable maze...\")\n",
    "            return False\n",
    "        else:\n",
    "            self.surrondings = [env.get_position(self.x+1, self.y),\n",
    "                                env.get_position(self.x, self.y+1),\n",
    "                                env.get_position(self.x-1, self.y), \n",
    "                                env.get_position(self.x, self.y-1)]\n",
    "            possible_moves = []\n",
    "            for i in range(len(self.surrondings)):\n",
    "                if self.surrondings[i] == 'F':\n",
    "                    possible_moves.append(i)\n",
    "                    \n",
    "            if(self.prev_move == 0):\n",
    "                if(2 in possible_moves):\n",
    "                    possible_moves.remove(2)\n",
    "            elif(self.prev_move == 2):\n",
    "                if(0 in possible_moves):\n",
    "                    possible_moves.remove(0)\n",
    "            elif(self.prev_move == 1):\n",
    "                if(3 in possible_moves):\n",
    "                    possible_moves.remove(3)\n",
    "            elif(self.prev_move == 3):\n",
    "                if(1 in possible_moves):\n",
    "                    possible_moves.remove(1)\n",
    "                    \n",
    "            move_turn = 1\n",
    "            if(len(possible_moves) == 1):\n",
    "               current_move = possible_moves[0]\n",
    "            elif(len(possible_moves) > 1):\n",
    "                if((self.x, self.y) not in self.branches):\n",
    "                    current_move = random.choice(possible_moves)\n",
    "                    possible_moves.remove(current_move)\n",
    "                    self.branches[(self.x, self.y)] = possible_moves\n",
    "                else:\n",
    "                    if(self.branches[(self.x, self.y)]):\n",
    "                        current_move = random.choice(self.branches[(self.x, self.y)])\n",
    "                        self.branches[(self.x, self.y)].remove(current_move)\n",
    "                    else:\n",
    "                        current_move = random.choice(possible_moves)\n",
    "                        possible_moves.remove(current_move)\n",
    "                        self.branches[(self.x, self.y)] = possible_moves\n",
    "            else:\n",
    "                if(not self.branches):\n",
    "                    print(\"Unsolvable maze, no route to exit...\")\n",
    "                    return False\n",
    "                last_choice_position = self.branches.popitem()\n",
    "                self.x = last_choice_position[0][0]\n",
    "                self.y = last_choice_position[0][1]\n",
    "                self.branches[(self.x, self.y)] = last_choice_position[1]\n",
    "                self.total_steps = 0\n",
    "                move_turn = 0\n",
    "            \n",
    "            if(move_turn):\n",
    "                if(current_move == 0):\n",
    "                    self.x += 1\n",
    "                    self.prev_move = 0\n",
    "                    print(\"Go Down\")\n",
    "                elif(current_move == 1):\n",
    "                    self.y += 1\n",
    "                    self.prev_move = 1\n",
    "                    print(\"Go Right\")\n",
    "                elif(current_move == 2):\n",
    "                    self.x -= 1\n",
    "                    self.prev_move = 2\n",
    "                    print(\"Go Up\")\n",
    "                elif(current_move == 3):\n",
    "                    self.y -= 1\n",
    "                    self.prev_move = 3\n",
    "                    print(\"Go Left\")\n",
    "                else:\n",
    "                    print(\"Maze is blocked for all the places...\")\n",
    "                    return False\n",
    "                \n",
    "            self.total_steps += 1\n",
    "            return True\n",
    "        "
   ]
  },
  {
   "cell_type": "code",
   "execution_count": 4,
   "id": "e12fb6a2",
   "metadata": {},
   "outputs": [],
   "source": [
    "#Custom maze 1 - Single path to goal\n",
    "cust_maze = [['F', 'B', 'B', 'B', 'F'],\n",
    " ['F', 'B', 'B', 'B', 'B'],\n",
    " ['F', 'F', 'F', 'B', 'B'],\n",
    " ['B', 'B', 'F', 'F', 'F'],\n",
    " ['B', 'B', 'B', 'B', 'F']]"
   ]
  },
  {
   "cell_type": "code",
   "execution_count": 5,
   "id": "c75311ad",
   "metadata": {},
   "outputs": [
    {
     "name": "stdout",
     "output_type": "stream",
     "text": [
      "Limit is:  5\n",
      "Goal is:  (4, 4)\n",
      "F B B B F \n",
      "F B B B B \n",
      "F F F B B \n",
      "B B F F F \n",
      "B B B B F \n"
     ]
    }
   ],
   "source": [
    "my_env = maze_environment(limit=5, maze=cust_maze, goal=(4, 4))\n",
    "my__agent = maze_solver_full_memory()\n",
    "\n",
    "print(\"Limit is: \", my_env.get_limit())\n",
    "print(\"Goal is: \", my_env.get_goal())\n",
    "my_env.show_maze()"
   ]
  },
  {
   "cell_type": "code",
   "execution_count": 6,
   "id": "818668d2",
   "metadata": {},
   "outputs": [
    {
     "name": "stdout",
     "output_type": "stream",
     "text": [
      "Go Down\n",
      "I am currently at the position (1, 0)\n",
      "Go Down\n",
      "I am currently at the position (2, 0)\n",
      "Go Right\n",
      "I am currently at the position (2, 1)\n",
      "Go Right\n",
      "I am currently at the position (2, 2)\n",
      "Go Down\n",
      "I am currently at the position (3, 2)\n",
      "Go Right\n",
      "I am currently at the position (3, 3)\n",
      "Go Right\n",
      "I am currently at the position (3, 4)\n",
      "Go Down\n",
      "I am currently at the position (4, 4)\n",
      "You have solved the maze and reached the end...\n",
      "I am currently at the position (4, 4)\n"
     ]
    }
   ],
   "source": [
    "status = True\n",
    "while(status):\n",
    "    status = my__agent.move(my_env)\n",
    "    my__agent.tell_pos()"
   ]
  },
  {
   "cell_type": "code",
   "execution_count": 7,
   "id": "8496f474",
   "metadata": {},
   "outputs": [],
   "source": [
    "cust_maze3 = [['F', 'F', 'F', 'B', 'B'],\n",
    "              ['F', 'F', 'B', 'B', 'F'],\n",
    "              ['F', 'B', 'B', 'B', 'B'],\n",
    "              ['F', 'B', 'F', 'F', 'F'],\n",
    "              ['F', 'F', 'F', 'B', 'F']]"
   ]
  },
  {
   "cell_type": "code",
   "execution_count": 8,
   "id": "42cb7cc9",
   "metadata": {},
   "outputs": [
    {
     "name": "stdout",
     "output_type": "stream",
     "text": [
      "Limit is:  5\n",
      "Goal is:  (4, 4)\n",
      "F F F B B \n",
      "F F B B F \n",
      "F B B B B \n",
      "F B F F F \n",
      "F F F B F \n"
     ]
    }
   ],
   "source": [
    "my_env4 = maze_environment(limit=5, maze=cust_maze3, goal=(4, 4))\n",
    "my_agent4 = maze_solver_full_memory()\n",
    "\n",
    "print(\"Limit is: \", my_env4.get_limit())\n",
    "print(\"Goal is: \", my_env4.get_goal())\n",
    "my_env4.show_maze()"
   ]
  },
  {
   "cell_type": "code",
   "execution_count": 9,
   "id": "dd880487",
   "metadata": {},
   "outputs": [
    {
     "name": "stdout",
     "output_type": "stream",
     "text": [
      "Go Right\n",
      "I am currently at the position (0, 1)\n",
      "Go Right\n",
      "I am currently at the position (0, 2)\n",
      "I am currently at the position (0, 1)\n",
      "Go Down\n",
      "I am currently at the position (1, 1)\n",
      "Go Left\n",
      "I am currently at the position (1, 0)\n",
      "Go Down\n",
      "I am currently at the position (2, 0)\n",
      "Go Down\n",
      "I am currently at the position (3, 0)\n",
      "Go Down\n",
      "I am currently at the position (4, 0)\n",
      "Go Right\n",
      "I am currently at the position (4, 1)\n",
      "Go Right\n",
      "I am currently at the position (4, 2)\n",
      "Go Up\n",
      "I am currently at the position (3, 2)\n",
      "Go Right\n",
      "I am currently at the position (3, 3)\n",
      "Go Right\n",
      "I am currently at the position (3, 4)\n",
      "Go Down\n",
      "I am currently at the position (4, 4)\n",
      "You have solved the maze and reached the end...\n",
      "I am currently at the position (4, 4)\n"
     ]
    }
   ],
   "source": [
    "status = True\n",
    "while(status):\n",
    "    status = my_agent4.move(my_env4)\n",
    "    my_agent4.tell_pos()"
   ]
  },
  {
   "cell_type": "markdown",
   "id": "b3105e78",
   "metadata": {},
   "source": [
    "This agent is better than the previous agent as it does not repeat its moves when in a straight line but I have noticed one thing that it might get trapped in a deep corner some times and can take a while to figure out how to get out from it so for next agent I will be fixing that part. This is still a much better agent for short mazes like 7x7 as it explores fast and searches for the goal."
   ]
  }
 ],
 "metadata": {
  "kernelspec": {
   "display_name": "Python 3 (ipykernel)",
   "language": "python",
   "name": "python3"
  },
  "language_info": {
   "codemirror_mode": {
    "name": "ipython",
    "version": 3
   },
   "file_extension": ".py",
   "mimetype": "text/x-python",
   "name": "python",
   "nbconvert_exporter": "python",
   "pygments_lexer": "ipython3",
   "version": "3.9.6"
  }
 },
 "nbformat": 4,
 "nbformat_minor": 5
}
